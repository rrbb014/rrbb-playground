{
 "cells": [
  {
   "cell_type": "code",
   "execution_count": 1,
   "metadata": {},
   "outputs": [],
   "source": [
    "import torch\n",
    "import torch.nn as nn\n",
    "import torch.optim as optim\n",
    "import torch.nn.functional as F\n",
    "from torchvision import transforms, datasets"
   ]
  },
  {
   "cell_type": "code",
   "execution_count": 2,
   "metadata": {},
   "outputs": [],
   "source": [
    "USE_CUDA = torch.cuda.is_available()\n",
    "DEVICE = torch.device(\"cuda\" if USE_CUDA else \"cpu\")\n",
    "\n",
    "EPOCHS = 50\n",
    "BATCH_SIZE = 64"
   ]
  },
  {
   "cell_type": "code",
   "execution_count": 3,
   "metadata": {},
   "outputs": [
    {
     "name": "stderr",
     "output_type": "stream",
     "text": [
      "\r",
      "0it [00:00, ?it/s]"
     ]
    },
    {
     "name": "stdout",
     "output_type": "stream",
     "text": [
      "Downloading http://yann.lecun.com/exdb/mnist/train-images-idx3-ubyte.gz to ./data/MNIST/raw/train-images-idx3-ubyte.gz\n"
     ]
    },
    {
     "name": "stderr",
     "output_type": "stream",
     "text": [
      "9920512it [00:08, 1227989.03it/s]                             \n"
     ]
    },
    {
     "name": "stdout",
     "output_type": "stream",
     "text": [
      "Extracting ./data/MNIST/raw/train-images-idx3-ubyte.gz to ./data/MNIST/raw\n"
     ]
    },
    {
     "name": "stderr",
     "output_type": "stream",
     "text": [
      "\r",
      "0it [00:00, ?it/s]"
     ]
    },
    {
     "name": "stdout",
     "output_type": "stream",
     "text": [
      "Downloading http://yann.lecun.com/exdb/mnist/train-labels-idx1-ubyte.gz to ./data/MNIST/raw/train-labels-idx1-ubyte.gz\n"
     ]
    },
    {
     "name": "stderr",
     "output_type": "stream",
     "text": [
      "32768it [00:00, 37743.19it/s]                           \n",
      "0it [00:00, ?it/s]"
     ]
    },
    {
     "name": "stdout",
     "output_type": "stream",
     "text": [
      "Extracting ./data/MNIST/raw/train-labels-idx1-ubyte.gz to ./data/MNIST/raw\n",
      "Downloading http://yann.lecun.com/exdb/mnist/t10k-images-idx3-ubyte.gz to ./data/MNIST/raw/t10k-images-idx3-ubyte.gz\n"
     ]
    },
    {
     "name": "stderr",
     "output_type": "stream",
     "text": [
      "1654784it [00:02, 777691.75it/s]                             \n",
      "0it [00:00, ?it/s]"
     ]
    },
    {
     "name": "stdout",
     "output_type": "stream",
     "text": [
      "Extracting ./data/MNIST/raw/t10k-images-idx3-ubyte.gz to ./data/MNIST/raw\n",
      "Downloading http://yann.lecun.com/exdb/mnist/t10k-labels-idx1-ubyte.gz to ./data/MNIST/raw/t10k-labels-idx1-ubyte.gz\n"
     ]
    },
    {
     "name": "stderr",
     "output_type": "stream",
     "text": [
      "8192it [00:00, 21665.04it/s]            "
     ]
    },
    {
     "name": "stdout",
     "output_type": "stream",
     "text": [
      "Extracting ./data/MNIST/raw/t10k-labels-idx1-ubyte.gz to ./data/MNIST/raw\n",
      "Processing...\n",
      "Done!\n"
     ]
    },
    {
     "name": "stderr",
     "output_type": "stream",
     "text": [
      "\n"
     ]
    }
   ],
   "source": [
    "train_loader = torch.utils.data.DataLoader(\n",
    "    datasets.MNIST('./data',\n",
    "                          train=True,\n",
    "                          download=True,\n",
    "                          transform=transforms.Compose([\n",
    "                              transforms.RandomHorizontalFlip(),\n",
    "                              transforms.ToTensor(),\n",
    "                              transforms.Normalize((0.1307,), (0.3081,))\n",
    "                          ])),\n",
    "    batch_size=BATCH_SIZE,\n",
    "    shuffle=True)\n",
    "\n",
    "test_loader = torch.utils.data.DataLoader(\n",
    "    datasets.MNIST('./data',\n",
    "                         train=False,\n",
    "                         download=True,\n",
    "                         transform=transforms.Compose([\n",
    "                             transforms.ToTensor(),\n",
    "                             transforms.Normalize((0.1307,), (0.3081,))\n",
    "                         ])),\n",
    "    batch_size=BATCH_SIZE,\n",
    "    shuffle=True)"
   ]
  },
  {
   "cell_type": "code",
   "execution_count": 4,
   "metadata": {},
   "outputs": [],
   "source": [
    "class Net(nn.Module):\n",
    "    def __init__(self, dropout_p=0.2):\n",
    "        super(Net, self).__init__()\n",
    "        self.fc1 = nn.Linear(784, 256)\n",
    "        self.fc2 = nn.Linear(256, 128)\n",
    "        self.fc3 = nn.Linear(128, 10)\n",
    "        self.dropout_p = dropout_p\n",
    "    \n",
    "    def forward(self, x):\n",
    "        x = x.view(-1, 784)\n",
    "        x = F.relu(self.fc1(x))\n",
    "        \n",
    "        # ADD dropout\n",
    "        x = F.dropout(x,\n",
    "                      training=self.training,\n",
    "                      p=self.dropout_p\n",
    "        )\n",
    "        \n",
    "        x = F.relu(self.fc2(x))\n",
    "        \n",
    "        # ADD dropout\n",
    "        x = F.dropout(x,\n",
    "                      training=self.training,\n",
    "                      p=self.dropout_p\n",
    "        )\n",
    "        x = self.fc3(x)\n",
    "        return x"
   ]
  },
  {
   "cell_type": "code",
   "execution_count": 5,
   "metadata": {},
   "outputs": [],
   "source": [
    "model = Net(dropout_p=0.2).to(DEVICE)\n",
    "optimizer = optim.SGD(model.parameters(), lr=0.01)"
   ]
  },
  {
   "cell_type": "code",
   "execution_count": 6,
   "metadata": {},
   "outputs": [],
   "source": [
    "def train(model, train_loader, optimizer):\n",
    "    model.train()\n",
    "    for batch_idx, (data, target) in enumerate(train_loader):\n",
    "        data, target = data.to(DEVICE), target.to(DEVICE)\n",
    "        optimizer.zero_grad()\n",
    "        output = model(data)\n",
    "        loss = F.cross_entropy(output, target)\n",
    "        loss.backward()\n",
    "        optimizer.step()"
   ]
  },
  {
   "cell_type": "code",
   "execution_count": 7,
   "metadata": {},
   "outputs": [],
   "source": [
    "def evaluate(model, test_loader):\n",
    "    model.eval()\n",
    "    test_loss = 0\n",
    "    correct = 0\n",
    "    with torch.no_grad():\n",
    "        for data, target in test_loader:\n",
    "            data, target = data.to(DEVICE), target.to(DEVICE)\n",
    "            output = model(data)\n",
    "            test_loss += F.cross_entropy(output, target,\n",
    "                                        reduction='sum').item()\n",
    "            \n",
    "            # sum correct samples\n",
    "            pred = output.max(1, keepdim=True)[1]\n",
    "            correct += pred.eq(target.view_as(pred)).sum().item()\n",
    "    \n",
    "    test_loss /= len(test_loader.dataset)\n",
    "    test_accuracy = 100. * correct / len(test_loader.dataset)\n",
    "    return test_loss, test_accuracy"
   ]
  },
  {
   "cell_type": "code",
   "execution_count": 8,
   "metadata": {},
   "outputs": [
    {
     "name": "stdout",
     "output_type": "stream",
     "text": [
      "[1] Test Loss: 0.5421, Accuracy: 82.70%\n",
      "[2] Test Loss: 0.4135, Accuracy: 87.07%\n",
      "[3] Test Loss: 0.3358, Accuracy: 89.42%\n",
      "[4] Test Loss: 0.2856, Accuracy: 91.08%\n",
      "[5] Test Loss: 0.2465, Accuracy: 92.16%\n",
      "[6] Test Loss: 0.2207, Accuracy: 93.14%\n",
      "[7] Test Loss: 0.1978, Accuracy: 93.87%\n",
      "[8] Test Loss: 0.1834, Accuracy: 94.23%\n",
      "[9] Test Loss: 0.1721, Accuracy: 94.72%\n",
      "[10] Test Loss: 0.1658, Accuracy: 94.86%\n",
      "[11] Test Loss: 0.1541, Accuracy: 95.17%\n",
      "[12] Test Loss: 0.1495, Accuracy: 95.39%\n",
      "[13] Test Loss: 0.1395, Accuracy: 95.65%\n",
      "[14] Test Loss: 0.1375, Accuracy: 95.76%\n",
      "[15] Test Loss: 0.1342, Accuracy: 95.77%\n",
      "[16] Test Loss: 0.1301, Accuracy: 96.01%\n",
      "[17] Test Loss: 0.1271, Accuracy: 95.99%\n",
      "[18] Test Loss: 0.1233, Accuracy: 96.25%\n",
      "[19] Test Loss: 0.1170, Accuracy: 96.34%\n",
      "[20] Test Loss: 0.1163, Accuracy: 96.42%\n",
      "[21] Test Loss: 0.1135, Accuracy: 96.51%\n",
      "[22] Test Loss: 0.1113, Accuracy: 96.48%\n",
      "[23] Test Loss: 0.1088, Accuracy: 96.57%\n",
      "[24] Test Loss: 0.1075, Accuracy: 96.57%\n",
      "[25] Test Loss: 0.1035, Accuracy: 96.84%\n",
      "[26] Test Loss: 0.1034, Accuracy: 96.83%\n",
      "[27] Test Loss: 0.1000, Accuracy: 96.93%\n",
      "[28] Test Loss: 0.1006, Accuracy: 96.85%\n",
      "[29] Test Loss: 0.1000, Accuracy: 96.91%\n",
      "[30] Test Loss: 0.0987, Accuracy: 96.97%\n",
      "[31] Test Loss: 0.0959, Accuracy: 96.97%\n",
      "[32] Test Loss: 0.0945, Accuracy: 97.06%\n",
      "[33] Test Loss: 0.0942, Accuracy: 97.01%\n",
      "[34] Test Loss: 0.0929, Accuracy: 97.18%\n",
      "[35] Test Loss: 0.0927, Accuracy: 97.10%\n",
      "[36] Test Loss: 0.0922, Accuracy: 97.12%\n",
      "[37] Test Loss: 0.0894, Accuracy: 97.27%\n",
      "[38] Test Loss: 0.0912, Accuracy: 97.23%\n",
      "[39] Test Loss: 0.0890, Accuracy: 97.36%\n",
      "[40] Test Loss: 0.0882, Accuracy: 97.27%\n",
      "[41] Test Loss: 0.0873, Accuracy: 97.44%\n",
      "[42] Test Loss: 0.0875, Accuracy: 97.43%\n",
      "[43] Test Loss: 0.0865, Accuracy: 97.38%\n",
      "[44] Test Loss: 0.0845, Accuracy: 97.42%\n",
      "[45] Test Loss: 0.0853, Accuracy: 97.38%\n",
      "[46] Test Loss: 0.0819, Accuracy: 97.52%\n",
      "[47] Test Loss: 0.0823, Accuracy: 97.48%\n",
      "[48] Test Loss: 0.0838, Accuracy: 97.39%\n",
      "[49] Test Loss: 0.0840, Accuracy: 97.43%\n",
      "[50] Test Loss: 0.0828, Accuracy: 97.62%\n"
     ]
    }
   ],
   "source": [
    "for epoch in range(1, EPOCHS+1):\n",
    "    train(model, train_loader, optimizer)\n",
    "    test_loss, test_accuracy = evaluate(model, test_loader)\n",
    "    \n",
    "    print(\"[{}] Test Loss: {:.4f}, Accuracy: {:.2f}%\".format(\n",
    "        epoch, test_loss, test_accuracy))"
   ]
  },
  {
   "cell_type": "code",
   "execution_count": 13,
   "metadata": {},
   "outputs": [],
   "source": [
    "iter_tl = iter(train_loader)"
   ]
  },
  {
   "cell_type": "code",
   "execution_count": 14,
   "metadata": {},
   "outputs": [],
   "source": [
    "i = next(iter_tl)"
   ]
  },
  {
   "cell_type": "code",
   "execution_count": 22,
   "metadata": {},
   "outputs": [
    {
     "data": {
      "text/plain": [
       "torch.Size([64, 1, 28, 28])"
      ]
     },
     "execution_count": 22,
     "metadata": {},
     "output_type": "execute_result"
    }
   ],
   "source": [
    "i[0].shape"
   ]
  },
  {
   "cell_type": "code",
   "execution_count": 24,
   "metadata": {},
   "outputs": [],
   "source": []
  },
  {
   "cell_type": "code",
   "execution_count": null,
   "metadata": {},
   "outputs": [],
   "source": []
  }
 ],
 "metadata": {
  "kernelspec": {
   "display_name": "Python 3",
   "language": "python",
   "name": "python3"
  },
  "language_info": {
   "codemirror_mode": {
    "name": "ipython",
    "version": 3
   },
   "file_extension": ".py",
   "mimetype": "text/x-python",
   "name": "python",
   "nbconvert_exporter": "python",
   "pygments_lexer": "ipython3",
   "version": "3.5.2"
  }
 },
 "nbformat": 4,
 "nbformat_minor": 2
}
