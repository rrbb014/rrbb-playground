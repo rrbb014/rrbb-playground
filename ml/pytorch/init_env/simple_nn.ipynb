{
 "cells": [
  {
   "cell_type": "code",
   "execution_count": 1,
   "metadata": {},
   "outputs": [],
   "source": [
    "import torch\n",
    "import numpy as np\n",
    "import matplotlib.pyplot as plt\n",
    "from sklearn.datasets import make_blobs\n",
    "import torch.nn.functional as F\n",
    "\n",
    "%matplotlib inline"
   ]
  },
  {
   "cell_type": "code",
   "execution_count": 2,
   "metadata": {},
   "outputs": [],
   "source": [
    "n_dim = 2"
   ]
  },
  {
   "cell_type": "code",
   "execution_count": 3,
   "metadata": {},
   "outputs": [],
   "source": [
    "x_train, y_train = make_blobs(\n",
    "    n_samples=80,\n",
    "    n_features=n_dim,\n",
    "    centers = [\n",
    "        [1,1],\n",
    "        [-1,-1],\n",
    "        [1,-1],\n",
    "        [-1,1]\n",
    "    ],\n",
    "    shuffle=True,\n",
    "    cluster_std=0.3\n",
    ")\n",
    "\n",
    "x_test, y_test = make_blobs(\n",
    "    n_samples=20,\n",
    "    n_features=n_dim,\n",
    "    centers = [\n",
    "        [1,1],\n",
    "        [-1,-1],\n",
    "        [1,-1],\n",
    "        [-1,1]\n",
    "    ],\n",
    "    shuffle=True,\n",
    "    cluster_std=0.3\n",
    ")"
   ]
  },
  {
   "cell_type": "code",
   "execution_count": 13,
   "metadata": {},
   "outputs": [
    {
     "data": {
      "image/png": "[encoded data removed]",
      "text/plain": [
       "<Figure size 432x288 with 1 Axes>"
      ]
     },
     "metadata": {
      "needs_background": "light"
     },
     "output_type": "display_data"
    }
   ],
   "source": [
    "plt.scatter(x_train[:,0], x_train[:,1], color='red')\n",
    "plt.scatter(x_test[:,0], x_test[:,1], color='blue')\n",
    "\n",
    "plt.show()"
   ]
  },
  {
   "cell_type": "code",
   "execution_count": 14,
   "metadata": {},
   "outputs": [],
   "source": [
    "def label_map(y_, from_, to_):\n",
    "    \"\"\"예제에서 4개의 레이블을 2개로, 0,1 -> 0, 2,3 -> 1\"\"\"\n",
    "    y = np.copy(y_)\n",
    "    for f in from_:\n",
    "        y[y_ == f] = to_\n",
    "    return y"
   ]
  },
  {
   "cell_type": "code",
   "execution_count": 15,
   "metadata": {},
   "outputs": [],
   "source": [
    "y_train = label_map(y_train, [0,1], 0)\n",
    "y_train = label_map(y_train, [2,3], 1)\n",
    "y_test = label_map(y_test, [0,1], 0)\n",
    "y_test = label_map(y_test, [2,3], 1)"
   ]
  },
  {
   "cell_type": "code",
   "execution_count": 17,
   "metadata": {},
   "outputs": [],
   "source": [
    "def vis_data(x,y = None, c='r'):\n",
    "    if y is None:\n",
    "        y = [None] * len(x)\n",
    "    for x_ , y_ in zip(x, y):\n",
    "        if y_ is None:\n",
    "            plt.plot(x_[0], x_[1], '*', markerfacecolor='none', markeredgecolor=c)\n",
    "        else:\n",
    "\n",
    "            plt.plot(x_[0], x_[1], c+'o' if y_ == 0 else c+'+')"
   ]
  },
  {
   "cell_type": "code",
   "execution_count": 18,
   "metadata": {},
   "outputs": [
    {
     "data": {
      "image/png": "[encoded data removed]",
      "text/plain": [
       "<Figure size 432x288 with 1 Axes>"
      ]
     },
     "metadata": {
      "needs_background": "light"
     },
     "output_type": "display_data"
    }
   ],
   "source": [
    "plt.figure()\n",
    "vis_data(x_train, y_train, c='r')\n",
    "plt.show()"
   ]
  },
  {
   "cell_type": "code",
   "execution_count": 19,
   "metadata": {},
   "outputs": [],
   "source": [
    "x_train = torch.FloatTensor(x_train)\n",
    "x_test = torch.FloatTensor(x_test)\n",
    "y_train = torch.FloatTensor(y_train)\n",
    "y_test = torch.FloatTensor(y_test)"
   ]
  },
  {
   "cell_type": "code",
   "execution_count": 22,
   "metadata": {},
   "outputs": [],
   "source": [
    "class NeuralNet(torch.nn.Module):\n",
    "    def __init__(self, input_size, hidden_size):\n",
    "        super(NeuralNet, self).__init__()\n",
    "        self.input_size = input_size\n",
    "        self.hidden_size = hidden_size\n",
    "        \n",
    "        self.linear_1 = torch.nn.Linear(self.input_size, self.hidden_size)\n",
    "        self.relu = torch.nn.ReLU()\n",
    "        self.linear_2 = torch.nn.Linear(self.hidden_size, 1)\n",
    "        self.sigmoid = torch.nn.Sigmoid()\n",
    "        \n",
    "    def forward(self, input_tensor):\n",
    "        linear1 = self.linear_1(input_tensor)\n",
    "        relu = self.relu(linear1)\n",
    "        linear2 = self.linear_2(relu)\n",
    "        output = self.sigmoid(linear2)\n",
    "        return output"
   ]
  },
  {
   "cell_type": "code",
   "execution_count": 24,
   "metadata": {},
   "outputs": [],
   "source": [
    "model = NeuralNet(2, 5)\n",
    "learning_rate = 0.03\n",
    "criterion = torch.nn.BCELoss()\n",
    "\n",
    "epochs = 2000\n",
    "optimizer = torch.optim.SGD(model.parameters(), lr=learning_rate)"
   ]
  },
  {
   "cell_type": "code",
   "execution_count": 26,
   "metadata": {},
   "outputs": [
    {
     "name": "stdout",
     "output_type": "stream",
     "text": [
      "Before Training, test loss is 0.6821425557136536\n"
     ]
    }
   ],
   "source": [
    "model.eval()\n",
    "test_loss_before = criterion(model(x_test).squeeze(), y_test)\n",
    "print(\"Before Training, test loss is {}\".format(test_loss_before.item()))"
   ]
  },
  {
   "cell_type": "code",
   "execution_count": 31,
   "metadata": {},
   "outputs": [
    {
     "name": "stdout",
     "output_type": "stream",
     "text": [
      "Train loss at 0 is 0.6891281008720398\n",
      "Train loss at 100 is 0.6625805497169495\n",
      "Train loss at 200 is 0.6007413268089294\n",
      "Train loss at 300 is 0.5026346445083618\n",
      "Train loss at 400 is 0.38800087571144104\n",
      "Train loss at 500 is 0.2841093838214874\n",
      "Train loss at 600 is 0.20594072341918945\n",
      "Train loss at 700 is 0.15338543057441711\n",
      "Train loss at 800 is 0.11909130960702896\n",
      "Train loss at 900 is 0.09608760476112366\n",
      "Train loss at 1000 is 0.07998634874820709\n",
      "Train loss at 1100 is 0.06828414648771286\n",
      "Train loss at 1200 is 0.05946018546819687\n",
      "Train loss at 1300 is 0.05260790139436722\n",
      "Train loss at 1400 is 0.047156233340501785\n",
      "Train loss at 1500 is 0.04272140562534332\n",
      "Train loss at 1600 is 0.03904446214437485\n",
      "Train loss at 1700 is 0.03594820946455002\n",
      "Train loss at 1800 is 0.03330710530281067\n",
      "Train loss at 1900 is 0.03102697990834713\n"
     ]
    }
   ],
   "source": [
    "for epoch in range(epochs):\n",
    "    model.train()\n",
    "    optimizer.zero_grad()\n",
    "    train_output = model(x_train)\n",
    "    train_loss = criterion(train_output.squeeze(), y_train)\n",
    "    \n",
    "    if epoch % 100 == 0:\n",
    "        print(\"Train loss at {} is {}\".format(epoch, train_loss.item()))\n",
    "    \n",
    "    train_loss.backward()\n",
    "    optimizer.step()"
   ]
  },
  {
   "cell_type": "code",
   "execution_count": 32,
   "metadata": {},
   "outputs": [
    {
     "name": "stdout",
     "output_type": "stream",
     "text": [
      "After Training, test loss is 0.009065598249435425\n"
     ]
    }
   ],
   "source": [
    "model.eval()\n",
    "test_loss = criterion(model(x_test).squeeze(), y_test)\n",
    "print(\"After Training, test loss is {}\".format(test_loss.item()))"
   ]
  },
  {
   "cell_type": "code",
   "execution_count": 33,
   "metadata": {},
   "outputs": [
    {
     "name": "stdout",
     "output_type": "stream",
     "text": [
      "state_dict format of the model: OrderedDict([('linear_1.weight', tensor([[ 1.3517, -1.5019],\n",
      "        [-1.4498, -1.3390],\n",
      "        [ 1.2708,  1.6871],\n",
      "        [-0.7497,  0.7368],\n",
      "        [-1.3480,  1.5433]])), ('linear_1.bias', tensor([ 0.0576,  0.1054,  0.0096, -0.1275, -0.0772])), ('linear_2.weight', tensor([[ 1.9533, -1.8466, -2.0294,  0.8218,  1.9432]])), ('linear_2.bias', tensor([-0.0597]))])\n"
     ]
    }
   ],
   "source": [
    "torch.save(model.state_dict(), './model.pt')\n",
    "print('state_dict format of the model: {}'.format(model.state_dict()))"
   ]
  },
  {
   "cell_type": "code",
   "execution_count": 34,
   "metadata": {},
   "outputs": [
    {
     "data": {
      "text/plain": [
       "<All keys matched successfully>"
      ]
     },
     "execution_count": 34,
     "metadata": {},
     "output_type": "execute_result"
    }
   ],
   "source": [
    "# load test\n",
    "new_model = NeuralNet(2, 5)\n",
    "new_model.load_state_dict(torch.load('./model.pt'))"
   ]
  },
  {
   "cell_type": "code",
   "execution_count": 49,
   "metadata": {},
   "outputs": [
    {
     "name": "stdout",
     "output_type": "stream",
     "text": [
      "label 1 probability of vector [-1, -1] is 0.006704254075884819\n"
     ]
    }
   ],
   "source": [
    "new_model.eval()\n",
    "print(\"label 1 probability of vector [-1, -1] is {}\".format(new_model(torch.tensor([-1.,-1.])).item()))\n"
   ]
  },
  {
   "cell_type": "code",
   "execution_count": null,
   "metadata": {},
   "outputs": [],
   "source": []
  }
 ],
 "metadata": {
  "kernelspec": {
   "display_name": "Python 3",
   "language": "python",
   "name": "python3"
  },
  "language_info": {
   "codemirror_mode": {
    "name": "ipython",
    "version": 3
   },
   "file_extension": ".py",
   "mimetype": "text/x-python",
   "name": "python",
   "nbconvert_exporter": "python",
   "pygments_lexer": "ipython3",
   "version": "3.5.2"
  }
 },
 "nbformat": 4,
 "nbformat_minor": 2
}
