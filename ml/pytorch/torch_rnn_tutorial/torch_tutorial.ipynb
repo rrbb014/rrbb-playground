{
 "cells": [
  {
   "cell_type": "code",
   "execution_count": 6,
   "metadata": {},
   "outputs": [],
   "source": [
    "from __future__ import unicode_literals, print_function, division\n",
    "import os\n",
    "import glob\n",
    "\n",
    "from io import open\n",
    "from pprint import pprint"
   ]
  },
  {
   "cell_type": "code",
   "execution_count": 7,
   "metadata": {},
   "outputs": [
    {
     "name": "stdout",
     "output_type": "stream",
     "text": [
      "['./data/names/German.txt',\n",
      " './data/names/Vietnamese.txt',\n",
      " './data/names/Italian.txt',\n",
      " './data/names/Dutch.txt',\n",
      " './data/names/Polish.txt',\n",
      " './data/names/Korean.txt',\n",
      " './data/names/Japanese.txt',\n",
      " './data/names/Irish.txt',\n",
      " './data/names/French.txt',\n",
      " './data/names/Spanish.txt',\n",
      " './data/names/English.txt',\n",
      " './data/names/Greek.txt',\n",
      " './data/names/Portuguese.txt',\n",
      " './data/names/Chinese.txt',\n",
      " './data/names/Russian.txt',\n",
      " './data/names/Czech.txt',\n",
      " './data/names/Arabic.txt',\n",
      " './data/names/Scottish.txt']\n"
     ]
    }
   ],
   "source": [
    "def find_files(path):\n",
    "    return glob.glob(path)\n",
    "\n",
    "pprint(find_files('./data/names/*.txt'))"
   ]
  },
  {
   "cell_type": "code",
   "execution_count": 8,
   "metadata": {},
   "outputs": [],
   "source": [
    "import string\n",
    "import unicodedata"
   ]
  },
  {
   "cell_type": "code",
   "execution_count": 15,
   "metadata": {},
   "outputs": [],
   "source": [
    "all_letters = string.ascii_letters + \".,;'\"\n",
    "n_letters = len(all_letters)"
   ]
  },
  {
   "cell_type": "code",
   "execution_count": 23,
   "metadata": {},
   "outputs": [
    {
     "data": {
      "text/plain": [
       "'Po'"
      ]
     },
     "execution_count": 23,
     "metadata": {},
     "output_type": "execute_result"
    }
   ],
   "source": [
    "unicodedata.category('')"
   ]
  },
  {
   "cell_type": "code",
   "execution_count": 24,
   "metadata": {},
   "outputs": [],
   "source": [
    "# 유니코드 문자열을 ASCII로 변환, https://stackoverflow.com/a/518232/2809427\n",
    "def unicode_to_ascii(s):\n",
    "    return ''.join(\n",
    "        c for c in unicodedata.normalize('NFD', s)\n",
    "        if unicodedata.category(c) != 'Mn'\n",
    "        and c in all_letters\n",
    "    )"
   ]
  },
  {
   "cell_type": "code",
   "execution_count": 26,
   "metadata": {},
   "outputs": [
    {
     "name": "stdout",
     "output_type": "stream",
     "text": [
      "Slusarski\n"
     ]
    }
   ],
   "source": [
    "print(unicode_to_ascii('Ślusàrski'))"
   ]
  },
  {
   "cell_type": "code",
   "execution_count": 37,
   "metadata": {},
   "outputs": [
    {
     "name": "stdout",
     "output_type": "stream",
     "text": [
      "Number of categories:  18\n",
      "Some category examples: \n",
      "['German', 'Vietnamese', 'Italian']\n",
      "One category <German> examples: \n",
      "['Abbing', 'Abel', 'Abeln']\n"
     ]
    }
   ],
   "source": [
    "# 각 언어의 이름 목록인 category_lines 사전 생성\n",
    "category_lines = {}\n",
    "all_categories = []\n",
    "\n",
    "def read_lines(filename):\n",
    "    \"\"\" 파일을 읽고 줄 단위로 분리 \"\"\"\n",
    "    lines = open(filename, encoding='utf8').read().strip().split('\\n')\n",
    "    return [unicode_to_ascii(line) for line in lines]\n",
    "\n",
    "\n",
    "for filename in find_files('./data/names/*.txt'):\n",
    "    category = os.path.splitext(os.path.basename(filename))[0]\n",
    "    all_categories.append(category)\n",
    "    lines = read_lines(filename)\n",
    "    category_lines[category] = lines\n",
    "\n",
    "n_categories = len(all_categories)\n",
    "print(\"Number of categories: \", n_categories)\n",
    "print(\"Some category examples: \")\n",
    "pprint(all_categories[:3])\n",
    "print(\"One category <{}> examples: \".format(all_categories[0]))\n",
    "pprint(category_lines[all_categories[0]][:3])"
   ]
  },
  {
   "cell_type": "markdown",
   "metadata": {},
   "source": [
    "###  이름을 Tensor로 변경\n",
    "\n",
    "모든 이름을 담았으니, 이를 활용하기 위해 Tensor로 변환.\n",
    "\n",
    "하나의 문자를 표현하기 위해, 크기가 `1 x n_letters` 인 one-hot 벡터를 사용.\n",
    "\n",
    "one-hot 벡터는 현재 문자의 주소에만 1을 값으로 갖고 그외엔 0으로 채워짐.\n",
    "\n",
    "단어를 만들기 위해, one-hot 벡터들을 2차원 matrix `word_length x 1 x n_letters` 로 표현한다\n",
    "\n",
    "위의 추가된 1차원은 PyTorch에서 모든 것이 Batch에 있다 가정하기때문에 발생함. 여기선 배치크기 1을 사용."
   ]
  },
  {
   "cell_type": "code",
   "execution_count": 39,
   "metadata": {},
   "outputs": [],
   "source": [
    "'''\n",
    "One-hot 벡터는 언어를 다룰 때 자주 사용하며\n",
    "단어, 글자 등을 벡터로 표현할때 단어, 글자 사이의 상관관계를 미리 알 수 없을 경우에 \n",
    "One-hot 으로 표현하여 서로 직교한다 가정하고 학습을 시작함.\n",
    "동일하게 상관 관계를 알 수 없는 다른 데이터의 경우에도 One-hot 벡터를 활용가능합니다.\n",
    "'''\n",
    "\n",
    "import torch\n"
   ]
  },
  {
   "cell_type": "code",
   "execution_count": 41,
   "metadata": {},
   "outputs": [],
   "source": [
    "# all_letters 로 문자 index 찾기, 예시 \"a\" = 0 \n",
    "def letter_to_index(letter):\n",
    "    return all_letters.find(letter)\n",
    "\n",
    "# 검증을 위해 한개의 문자를 <1xn_letters> Tensor로 변환\n",
    "def letter_to_tensor(letter):\n",
    "    tensor = torch.zeros(1, n_letters)\n",
    "    tensor[0][letter_to_index(letter)] = 1\n",
    "    return tensor\n",
    "\n",
    "# 한 줄(이름 단어)을 <word_length x 1 x n_letters>,\n",
    "# 혹은 one-hot 문자 벡터의 Array로 변경\n",
    "def line_to_tensor(line):\n",
    "    tensor = torch.zeros(len(line), 1, n_letters)\n",
    "    for li, letter in enumerate(line):\n",
    "        tensor[li][0][letter_to_index(letter)] = 1\n",
    "    return tensor"
   ]
  },
  {
   "cell_type": "code",
   "execution_count": 44,
   "metadata": {},
   "outputs": [
    {
     "name": "stdout",
     "output_type": "stream",
     "text": [
      "torch.Size([5, 1, 56])\n"
     ]
    }
   ],
   "source": [
    "print(line_to_tensor('Jones').size())"
   ]
  },
  {
   "cell_type": "code",
   "execution_count": 48,
   "metadata": {},
   "outputs": [],
   "source": [
    "import torch.nn as nn\n",
    "\n",
    "class RNN(nn.Module):\n",
    "    def __init__(self, input_size, hidden_size,  output_size):\n",
    "        super().__init__()\n",
    "        \n",
    "        self.hidden_size = hidden_size\n",
    "        \n",
    "        self.i2h = nn.Linear(input_size + hidden_size, hidden_size)\n",
    "        self.i2o = nn.Linear(input_size + hidden_size, output_size)\n",
    "        self.softmax = nn.LogSoftmax(dim=1)\n",
    "        \n",
    "    def forward(self, input_, hidden):\n",
    "        combined = torch.cat((input_, hidden), 1)\n",
    "        hidden = self.i2h(combined)\n",
    "        output = self.i2o(combined)\n",
    "        output = self.softmax(output)\n",
    "        return output, hidden\n",
    "\n",
    "    def init_hidden(self):\n",
    "        return torch.zeros(1, self.hidden_size)"
   ]
  },
  {
   "cell_type": "code",
   "execution_count": 49,
   "metadata": {},
   "outputs": [],
   "source": [
    "n_hidden = 128\n",
    "rnn = RNN(\n",
    "    input_size = n_letters,\n",
    "    hidden_size = n_hidden,\n",
    "    output_size = n_categories\n",
    ")\n"
   ]
  },
  {
   "cell_type": "code",
   "execution_count": 54,
   "metadata": {},
   "outputs": [],
   "source": [
    "input_ = letter_to_tensor('A')"
   ]
  },
  {
   "cell_type": "code",
   "execution_count": 55,
   "metadata": {},
   "outputs": [],
   "source": [
    "hidden = torch.zeros(1, n_hidden)"
   ]
  },
  {
   "cell_type": "code",
   "execution_count": 56,
   "metadata": {},
   "outputs": [
    {
     "name": "stdout",
     "output_type": "stream",
     "text": [
      "Output:  tensor([[-2.8766, -2.9238, -2.8288, -2.8049, -2.8781, -2.9420, -2.8577, -2.9947,\n",
      "         -2.9694, -2.8341, -2.9029, -2.8907, -2.8281, -2.8761, -2.9581, -2.9162,\n",
      "         -2.8345, -2.9353]], grad_fn=<LogSoftmaxBackward>)\n",
      "Next hidden:  tensor([[ 2.9812e-02,  9.0886e-02,  2.4523e-02, -1.2931e-02, -4.4243e-02,\n",
      "         -4.0083e-02, -9.4140e-02, -3.3278e-02,  5.9341e-03, -4.3118e-02,\n",
      "          1.0369e-01,  5.9213e-02, -8.6161e-02,  6.4016e-02,  4.3286e-02,\n",
      "          6.4705e-02, -1.9361e-02, -5.6345e-02, -2.5444e-02, -8.7744e-02,\n",
      "          3.2230e-03,  1.2015e-01, -4.7014e-02,  9.6912e-02, -3.7209e-02,\n",
      "          7.9992e-02,  3.5023e-02, -7.7128e-02,  9.1777e-03, -1.2559e-02,\n",
      "         -2.2583e-03,  3.8386e-02, -5.9560e-02, -4.9146e-02, -1.1979e-01,\n",
      "          6.6761e-02,  5.0746e-02,  3.5824e-02, -6.0577e-02,  4.1560e-02,\n",
      "          4.5911e-02, -9.9856e-03,  4.8818e-02,  2.5867e-02, -5.1356e-02,\n",
      "         -1.0025e-01,  7.5032e-02, -5.5703e-03, -6.9703e-02,  4.2210e-02,\n",
      "         -5.5812e-02, -9.9806e-03,  7.3251e-03,  5.0511e-02,  4.2537e-02,\n",
      "         -3.8808e-03,  8.1472e-06,  1.1683e-01, -8.8026e-02, -7.5538e-02,\n",
      "         -1.2386e-01,  8.6130e-03, -5.7262e-02,  2.4060e-02,  1.0311e-01,\n",
      "          1.1668e-01,  4.1320e-02, -1.7120e-02,  6.9376e-03,  8.6304e-02,\n",
      "          2.5504e-02, -2.2173e-02, -4.3513e-02, -4.0850e-03, -5.8132e-02,\n",
      "         -2.1407e-02,  5.0088e-03,  7.9301e-02, -7.2357e-02,  5.0310e-03,\n",
      "          5.6787e-02, -1.0732e-02, -9.0136e-02,  2.0391e-02,  2.5752e-02,\n",
      "         -3.0273e-02, -3.1352e-03, -3.3842e-02, -8.0409e-02, -7.8794e-03,\n",
      "         -2.1147e-02, -1.1073e-02, -2.5194e-02,  5.5954e-02,  3.7459e-03,\n",
      "          6.5694e-02,  5.7567e-02,  8.0960e-02,  1.6813e-02,  8.2766e-02,\n",
      "          1.7626e-02,  6.8780e-02, -4.7503e-02, -4.8628e-02, -2.5092e-02,\n",
      "         -2.2086e-02, -7.5046e-02,  8.1036e-02, -1.2832e-01,  8.7377e-02,\n",
      "         -6.5667e-02, -3.0963e-03, -1.1318e-01,  2.6564e-02, -1.2749e-01,\n",
      "          6.2674e-02, -3.2729e-02,  2.6972e-02, -6.9236e-02, -3.1624e-02,\n",
      "         -2.7509e-02, -1.1220e-01,  3.2345e-02, -1.1319e-01,  3.7499e-02,\n",
      "         -2.0346e-03, -2.9322e-02, -9.8176e-02]], grad_fn=<AddmmBackward>)\n"
     ]
    }
   ],
   "source": [
    "output, next_hidden = rnn(input_, hidden)\n",
    "print(\"Output: \", output)\n",
    "print(\"Next hidden: \", next_hidden)"
   ]
  },
  {
   "cell_type": "code",
   "execution_count": 57,
   "metadata": {},
   "outputs": [
    {
     "name": "stdout",
     "output_type": "stream",
     "text": [
      "tensor([[-2.8766, -2.9238, -2.8288, -2.8049, -2.8781, -2.9420, -2.8577, -2.9947,\n",
      "         -2.9694, -2.8341, -2.9029, -2.8907, -2.8281, -2.8761, -2.9581, -2.9162,\n",
      "         -2.8345, -2.9353]], grad_fn=<LogSoftmaxBackward>)\n"
     ]
    }
   ],
   "source": [
    "input_ = line_to_tensor('Albert')\n",
    "hidden = torch.zeros(1, n_hidden)\n",
    "output, next_hidden = rnn(input_[0], hidden)\n",
    "print(output)"
   ]
  },
  {
   "cell_type": "markdown",
   "metadata": {},
   "source": [
    "### Training\n",
    "\n",
    "학습에 들어가기전에 몇몇 도움되는 함수를 만들어야 합니다. 첫째는 우리가 알아낸 \n",
    "\n",
    "각 카테고리의 우도인 네트워크 출력을 해석하는 것 입니다. 가장 큰 값의 주소를 알아내기 위해서 `Tensor.topk` 함수를 사용가능합니다. \n",
    "\n",
    "즉, 네트워크 출력(각 카테고리의 우도) 으로 가장 확률이 높은 카테고리 이름(언어)과 카테고리 번호 반환"
   ]
  },
  {
   "cell_type": "code",
   "execution_count": 59,
   "metadata": {},
   "outputs": [],
   "source": [
    "def category_from_output(output):\n",
    "    top_n, top_i = output.topk(1) # 텐서의 가장 큰 값과 주소\n",
    "    category_i = top_i[0].item() # 텐서에서 정수값으로 변경\n",
    "    return all_categories[category_i], category_i"
   ]
  },
  {
   "cell_type": "code",
   "execution_count": 60,
   "metadata": {},
   "outputs": [
    {
     "name": "stdout",
     "output_type": "stream",
     "text": [
      "('Dutch', 3)\n"
     ]
    }
   ],
   "source": [
    "print(category_from_output(output))"
   ]
  }
 ],
 "metadata": {
  "kernelspec": {
   "display_name": "Python 3",
   "language": "python",
   "name": "python3"
  },
  "language_info": {
   "codemirror_mode": {
    "name": "ipython",
    "version": 3
   },
   "file_extension": ".py",
   "mimetype": "text/x-python",
   "name": "python",
   "nbconvert_exporter": "python",
   "pygments_lexer": "ipython3",
   "version": "3.5.2"
  }
 },
 "nbformat": 4,
 "nbformat_minor": 2
}
