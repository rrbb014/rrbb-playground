{
 "cells": [
  {
   "cell_type": "code",
   "execution_count": 1,
   "metadata": {},
   "outputs": [],
   "source": [
    "import torch\n",
    "import torch.nn as nn\n",
    "import random\n",
    "import matplotlib.pyplot as plt"
   ]
  },
  {
   "cell_type": "code",
   "execution_count": 2,
   "metadata": {},
   "outputs": [],
   "source": [
    "vocab_size = 256"
   ]
  },
  {
   "cell_type": "code",
   "execution_count": 3,
   "metadata": {},
   "outputs": [],
   "source": [
    "x_ = list(map(ord, \"hello\"))    # ascii code로 변환\n",
    "y_ = list(map(ord, \"hola\"))\n",
    "x = torch.LongTensor(x_)\n",
    "y = torch.LongTensor(y_)"
   ]
  },
  {
   "cell_type": "code",
   "execution_count": 4,
   "metadata": {},
   "outputs": [],
   "source": [
    "class Seq2Seq(nn.Module):\n",
    "    def __init__(self, vocab_size, hidden_size):\n",
    "        super(Seq2Seq, self).__init__()\n",
    "        self.n_layers = 1\n",
    "        self.hidden_size = hidden_size\n",
    "        self.embedding = nn.Embedding(vocab_size, hidden_size)\n",
    "        self.encoder = nn.GRU(hidden_size, hidden_size)\n",
    "        self.decoder = nn.GRU(hidden_size, hidden_size)\n",
    "        self.project = nn.Linear(hidden_size, vocab_size)\n",
    "        \n",
    "    def forward(self, inputs, targets):\n",
    "        initial_state = self._init_state()\n",
    "        embedding = self.embedding(inputs).unsqueeze(1)\n",
    "        encoder_output, encoder_state = self.encoder(embedding, initial_state)\n",
    "        decoder_state = encoder_state\n",
    "        decoder_input = torch.LongTensor([0])\n",
    "        \n",
    "        outputs = []\n",
    "        for i in range(targets.size()[0]):\n",
    "            decoder_input = self.embedding(decoder_input).unsqueeze(1)\n",
    "            decoder_input, decoder_state = self.decoder(decoder_input, decoder_state)\n",
    "            \n",
    "            # 디코더의 출력값으로 다음 글자 예측\n",
    "            projection = self.project(decoder_input)\n",
    "            outputs.append(projection)\n",
    "            \n",
    "            # teacher forcing 을 이용한 디코더 입력 갱신\n",
    "            decoder_input = torch.LongTensor([targets[i]])\n",
    "        outputs = torch.stack(outputs).squeeze()\n",
    "        return outputs\n",
    "    \n",
    "    def _init_state(self, batch_size=1):\n",
    "        weight = next(self.parameters()).data\n",
    "        return weight.new(self.n_layers, batch_size, self.hidden_size).zero_()"
   ]
  },
  {
   "cell_type": "code",
   "execution_count": 5,
   "metadata": {},
   "outputs": [
    {
     "name": "stdout",
     "output_type": "stream",
     "text": [
      "\n",
      " ITER: 0 Loss: 5.708127498626709\n",
      "['è', 'Z', 'x', '\\x8e']\n",
      "\n",
      " ITER: 100 Loss: 2.412604331970215\n",
      "['h', 'o', 'l', 'a']\n",
      "\n",
      " ITER: 200 Loss: 0.517680287361145\n",
      "['h', 'o', 'l', 'a']\n",
      "\n",
      " ITER: 300 Loss: 0.2150571644306183\n",
      "['h', 'o', 'l', 'a']\n",
      "\n",
      " ITER: 400 Loss: 0.1277601569890976\n",
      "['h', 'o', 'l', 'a']\n",
      "\n",
      " ITER: 500 Loss: 0.08856824040412903\n",
      "['h', 'o', 'l', 'a']\n",
      "\n",
      " ITER: 600 Loss: 0.06649582087993622\n",
      "['h', 'o', 'l', 'a']\n",
      "\n",
      " ITER: 700 Loss: 0.052372127771377563\n",
      "['h', 'o', 'l', 'a']\n",
      "\n",
      " ITER: 800 Loss: 0.04259730130434036\n",
      "['h', 'o', 'l', 'a']\n",
      "\n",
      " ITER: 900 Loss: 0.03546377271413803\n",
      "['h', 'o', 'l', 'a']\n"
     ]
    },
    {
     "data": {
      "image/png": "[encoded data removed]",
      "text/plain": [
       "<Figure size 432x288 with 1 Axes>"
      ]
     },
     "metadata": {
      "needs_background": "light"
     },
     "output_type": "display_data"
    }
   ],
   "source": [
    "seq2seq = Seq2Seq(vocab_size, 16)\n",
    "criterion = nn.CrossEntropyLoss()\n",
    "optimizer = torch.optim.Adam(seq2seq.parameters(), lr=1e-3)\n",
    "\n",
    "log = []\n",
    "for i in range(1000):\n",
    "    prediction = seq2seq(x, y)\n",
    "    loss = criterion(prediction, y)\n",
    "    optimizer.zero_grad()\n",
    "    loss.backward()\n",
    "    optimizer.step()\n",
    "    \n",
    "    loss_val = loss.data\n",
    "    log.append(loss_val)\n",
    "    if i % 100 == 0:\n",
    "        print(\"\\n ITER: %d Loss: %s\" % (i, loss_val.item()))\n",
    "        _, top1 = prediction.data.topk(1, 1)\n",
    "        print([chr(c) for c in top1.squeeze().numpy().tolist()])\n",
    "\n",
    "plt.plot(log)\n",
    "plt.ylabel(\"Cross Entropy Loss\")\n",
    "plt.show()"
   ]
  }
 ],
 "metadata": {
  "kernelspec": {
   "display_name": "Python 3",
   "language": "python",
   "name": "python3"
  },
  "language_info": {
   "codemirror_mode": {
    "name": "ipython",
    "version": 3
   },
   "file_extension": ".py",
   "mimetype": "text/x-python",
   "name": "python",
   "nbconvert_exporter": "python",
   "pygments_lexer": "ipython3",
   "version": "3.5.2"
  }
 },
 "nbformat": 4,
 "nbformat_minor": 2
}
