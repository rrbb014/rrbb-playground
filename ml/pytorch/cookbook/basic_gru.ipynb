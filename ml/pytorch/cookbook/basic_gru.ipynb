{
 "cells": [
  {
   "cell_type": "code",
   "execution_count": 26,
   "metadata": {},
   "outputs": [],
   "source": [
    "import os\n",
    "import torch\n",
    "import torch.nn as nn\n",
    "import torch.nn.functional as F\n",
    "from torchtext import data, datasets"
   ]
  },
  {
   "cell_type": "code",
   "execution_count": 27,
   "metadata": {},
   "outputs": [],
   "source": [
    "BATCH_SIZE = 64\n",
    "lr                 = 0.001\n",
    "EPOCHS       = 40\n",
    "USE_CUDA   = torch.cuda.is_available()\n",
    "DEVICE        = torch.device(\"cuda\" if USE_CUDA else \"cpu\")"
   ]
  },
  {
   "cell_type": "code",
   "execution_count": 28,
   "metadata": {},
   "outputs": [],
   "source": [
    "# sequential=True: 순차적인 데이터셋인가?\n",
    "# batch_first=True: 신경망에 입력되는 텐서의 첫번째 차원값이 batch_size가 되도록.\n",
    "# lower=True : 모든 영문 알파벳이 소문자가 되도록.\n",
    "TEXT = data.Field(sequential=True, batch_first=True, lower=True)\n",
    "LABEL = data.Field(sequential=False, batch_first=True)"
   ]
  },
  {
   "cell_type": "code",
   "execution_count": 29,
   "metadata": {},
   "outputs": [],
   "source": [
    "trainset, testset = datasets.IMDB.splits(TEXT, LABEL)"
   ]
  },
  {
   "cell_type": "code",
   "execution_count": 30,
   "metadata": {},
   "outputs": [],
   "source": [
    "TEXT.build_vocab(trainset, min_freq=5)    # 최소 5번 이상 등장한 단어만을 사전에 담겠다. 5번 미만 출현단어는 unk 토큰으로 대체.\n",
    "LABEL.build_vocab(testset)"
   ]
  },
  {
   "cell_type": "code",
   "execution_count": 31,
   "metadata": {},
   "outputs": [],
   "source": [
    "trainset, valset = trainset.split(split_ratio=0.8)\n",
    "train_iter, val_iter, test_iter = data.BucketIterator.splits(\n",
    "    (trainset, valset, testset),\n",
    "    batch_size=BATCH_SIZE,\n",
    "    shuffle=True,\n",
    "    repeat=False\n",
    ")"
   ]
  },
  {
   "cell_type": "code",
   "execution_count": 32,
   "metadata": {},
   "outputs": [],
   "source": [
    "vocab_size = len(TEXT.vocab)\n",
    "n_classes = 2"
   ]
  },
  {
   "cell_type": "code",
   "execution_count": 33,
   "metadata": {},
   "outputs": [
    {
     "name": "stdout",
     "output_type": "stream",
     "text": [
      "[학습셋]: 20000 [검증셋]: 5000 [테스트셋]: 25000 [단어 수]: 46159 [클래스]: 2\n"
     ]
    }
   ],
   "source": [
    "print(\"[학습셋]: %d [검증셋]: %d [테스트셋]: %d [단어 수]: %d [클래스]: %d\" \n",
    "      % (len(trainset), len(valset), len(testset), vocab_size, n_classes))"
   ]
  },
  {
   "cell_type": "markdown",
   "metadata": {},
   "source": [
    "### RNN 모델 구현"
   ]
  },
  {
   "cell_type": "code",
   "execution_count": 34,
   "metadata": {},
   "outputs": [],
   "source": [
    "class BasicGRU(nn.Module):\n",
    "    def __init__(self, n_layers, hidden_dim, n_vocab, embed_dim, n_classes, dropout_p=0.2):\n",
    "        super(BasicGRU, self).__init__()\n",
    "        print(\"Building Basic GRU model...\")\n",
    "        self.n_layers = n_layers\n",
    "        self.embed = nn.Embedding(n_vocab, embed_dim)\n",
    "        self.hidden_dim = hidden_dim\n",
    "        self.dropout = nn.Dropout(dropout_p)\n",
    "        self.gru = nn.GRU(\n",
    "            embed_dim,\n",
    "            self.hidden_dim,\n",
    "            num_layers=self.n_layers,\n",
    "            batch_first=True)\n",
    "        self.out = nn.Linear(self.hidden_dim, n_classes)\n",
    "    \n",
    "    def forward(self, x):\n",
    "        x = self.embed(x)\n",
    "        h_0 = self._init_state(batch_size=x.size(0))\n",
    "        x, _ = self.gru(x, h_0)\n",
    "        h_t = x[:, -1, :]\n",
    "        self.dropout(h_t)\n",
    "        logit = self.out(h_t)\n",
    "        return logit\n",
    "    \n",
    "    def _init_state(self, batch_size=1):\n",
    "        weight = next(self.parameters()).data\n",
    "        return weight.new(self.n_layers, batch_size, self.hidden_dim).zero_()"
   ]
  },
  {
   "cell_type": "code",
   "execution_count": 35,
   "metadata": {},
   "outputs": [],
   "source": [
    "def train(model, optimizer, train_iter):\n",
    "    model.train()\n",
    "    for b, batch in enumerate(train_iter):\n",
    "        x, y = batch.text.to(DEVICE), batch.label.to(DEVICE)\n",
    "        y.data.sub_(1)    # label값을 0, 1 로 변환\n",
    "        optimizer.zero_grad()\n",
    "        \n",
    "        logit = model(x)\n",
    "        loss = F.cross_entropy(logit, y)\n",
    "        loss.backward()\n",
    "        optimizer.step()                      "
   ]
  },
  {
   "cell_type": "code",
   "execution_count": 37,
   "metadata": {},
   "outputs": [],
   "source": [
    "def evaluate(model, val_iter):\n",
    "    \"\"\" Evaluate model\"\"\"\n",
    "    model.eval()\n",
    "    corrects, total_loss = 0, 0\n",
    "    for batch in val_iter:\n",
    "        x, y = batch.text.to(DEVICE), batch.label.to(DEVICE)\n",
    "        y.data.sub_(1)\n",
    "        logit = model(x)\n",
    "        loss = F.cross_entropy(logit, y, reduction='sum')\n",
    "        total_loss += loss.item()\n",
    "        corrects += (logit.max(1)[1].view(y.size()).data == y.data).sum()\n",
    "    \n",
    "    size = len(val_iter.dataset)\n",
    "    avg_loss = total_loss / size\n",
    "    avg_accuracy = 100.0 * corrects / size\n",
    "    return avg_loss, avg_accuracy        "
   ]
  },
  {
   "cell_type": "code",
   "execution_count": 38,
   "metadata": {},
   "outputs": [
    {
     "name": "stdout",
     "output_type": "stream",
     "text": [
      "Building Basic GRU model...\n"
     ]
    }
   ],
   "source": [
    "model = BasicGRU(\n",
    "    n_layers=1,\n",
    "    hidden_dim=256,\n",
    "    n_vocab=vocab_size,\n",
    "    embed_dim=128,\n",
    "    n_classes=n_classes,\n",
    "    dropout_p=0.5).to(DEVICE)\n",
    "\n",
    "optimizer = torch.optim.Adam(model.parameters(), lr=lr)"
   ]
  },
  {
   "cell_type": "code",
   "execution_count": 39,
   "metadata": {},
   "outputs": [
    {
     "name": "stdout",
     "output_type": "stream",
     "text": [
      "[Epoch: 1] 검증 오차:  0.69 | 검증 정확도: 51.10\n",
      "[Epoch: 2] 검증 오차:  0.70 | 검증 정확도: 49.64\n",
      "[Epoch: 3] 검증 오차:  0.59 | 검증 정확도: 70.36\n",
      "[Epoch: 4] 검증 오차:  0.57 | 검증 정확도: 68.24\n",
      "[Epoch: 5] 검증 오차:  0.40 | 검증 정확도: 83.48\n",
      "[Epoch: 6] 검증 오차:  0.39 | 검증 정확도: 82.82\n",
      "[Epoch: 7] 검증 오차:  0.40 | 검증 정확도: 82.92\n",
      "[Epoch: 8] 검증 오차:  0.35 | 검증 정확도: 84.60\n",
      "[Epoch: 9] 검증 오차:  0.36 | 검증 정확도: 84.78\n",
      "[Epoch: 10] 검증 오차:  0.37 | 검증 정확도: 84.94\n",
      "[Epoch: 11] 검증 오차:  0.36 | 검증 정확도: 85.46\n",
      "[Epoch: 12] 검증 오차:  0.42 | 검증 정확도: 84.64\n",
      "[Epoch: 13] 검증 오차:  0.38 | 검증 정확도: 85.80\n",
      "[Epoch: 14] 검증 오차:  0.45 | 검증 정확도: 84.32\n",
      "[Epoch: 15] 검증 오차:  0.43 | 검증 정확도: 84.62\n",
      "[Epoch: 16] 검증 오차:  0.46 | 검증 정확도: 84.32\n",
      "[Epoch: 17] 검증 오차:  0.44 | 검증 정확도: 84.56\n",
      "[Epoch: 18] 검증 오차:  0.46 | 검증 정확도: 84.40\n",
      "[Epoch: 19] 검증 오차:  0.48 | 검증 정확도: 84.86\n",
      "[Epoch: 20] 검증 오차:  0.55 | 검증 정확도: 83.08\n",
      "[Epoch: 21] 검증 오차:  0.60 | 검증 정확도: 81.68\n",
      "[Epoch: 22] 검증 오차:  0.49 | 검증 정확도: 84.48\n",
      "[Epoch: 23] 검증 오차:  0.53 | 검증 정확도: 83.94\n",
      "[Epoch: 24] 검증 오차:  0.47 | 검증 정확도: 86.74\n",
      "[Epoch: 25] 검증 오차:  0.53 | 검증 정확도: 85.36\n",
      "[Epoch: 26] 검증 오차:  0.52 | 검증 정확도: 86.04\n",
      "[Epoch: 27] 검증 오차:  0.51 | 검증 정확도: 86.32\n",
      "[Epoch: 28] 검증 오차:  0.49 | 검증 정확도: 86.32\n",
      "[Epoch: 29] 검증 오차:  0.52 | 검증 정확도: 86.02\n",
      "[Epoch: 30] 검증 오차:  0.58 | 검증 정확도: 84.66\n",
      "[Epoch: 31] 검증 오차:  0.52 | 검증 정확도: 85.04\n",
      "[Epoch: 32] 검증 오차:  0.66 | 검증 정확도: 82.62\n",
      "[Epoch: 33] 검증 오차:  0.54 | 검증 정확도: 85.60\n",
      "[Epoch: 34] 검증 오차:  0.53 | 검증 정확도: 85.10\n",
      "[Epoch: 35] 검증 오차:  0.58 | 검증 정확도: 85.44\n",
      "[Epoch: 36] 검증 오차:  0.69 | 검증 정확도: 83.24\n",
      "[Epoch: 37] 검증 오차:  0.61 | 검증 정확도: 84.78\n",
      "[Epoch: 38] 검증 오차:  0.62 | 검증 정확도: 85.46\n",
      "[Epoch: 39] 검증 오차:  0.53 | 검증 정확도: 84.94\n",
      "[Epoch: 40] 검증 오차:  0.52 | 검증 정확도: 84.68\n"
     ]
    }
   ],
   "source": [
    "best_val_loss  = None\n",
    "for e in range(1, EPOCHS+1):\n",
    "        train(model, optimizer, train_iter)\n",
    "        val_loss, val_accuracy = evaluate(model, val_iter)\n",
    "        \n",
    "        print(\"[Epoch: %d] 검증 오차: %5.2f | 검증 정확도: %5.2f\" %\n",
    "              (e, val_loss, val_accuracy))\n",
    "        if not best_val_loss or val_loss < best_val_loss:\n",
    "            if not os.path.isdir(\"snapshot\"):\n",
    "                os.makedirs(\"snapshot\")\n",
    "            torch.save(model.state_dict(), './snapshot/txtclassification.pt')\n",
    "            best_val_loss = val_loss"
   ]
  },
  {
   "cell_type": "code",
   "execution_count": 40,
   "metadata": {},
   "outputs": [
    {
     "name": "stdout",
     "output_type": "stream",
     "text": [
      "테스트 오차:  0.37 | 테스트 정확도: 83.66\n"
     ]
    }
   ],
   "source": [
    "model.load_state_dict(torch.load('./snapshot/txtclassification.pt'))\n",
    "test_loss, test_acc = evaluate(model, test_iter)\n",
    "print(\"테스트 오차: %5.2f | 테스트 정확도: %5.2f\" % (test_loss, test_acc))"
   ]
  }
 ],
 "metadata": {
  "kernelspec": {
   "display_name": "Python 3",
   "language": "python",
   "name": "python3"
  },
  "language_info": {
   "codemirror_mode": {
    "name": "ipython",
    "version": 3
   },
   "file_extension": ".py",
   "mimetype": "text/x-python",
   "name": "python",
   "nbconvert_exporter": "python",
   "pygments_lexer": "ipython3",
   "version": "3.7.6"
  }
 },
 "nbformat": 4,
 "nbformat_minor": 2
}
