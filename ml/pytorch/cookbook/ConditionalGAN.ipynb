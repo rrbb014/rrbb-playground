{
 "cells": [
  {
   "cell_type": "code",
   "execution_count": 2,
   "metadata": {},
   "outputs": [],
   "source": [
    "import os\n",
    "import numpy as np\n",
    "import torch\n",
    "import torch.nn as nn\n",
    "import torch.nn.functional as F\n",
    "import torch.optim as optim\n",
    "\n",
    "import torchvision\n",
    "from torchvision import transforms, datasets\n",
    "from torchvision.utils import save_image\n",
    "import matplotlib.pyplot as plt"
   ]
  },
  {
   "cell_type": "code",
   "execution_count": 3,
   "metadata": {},
   "outputs": [
    {
     "name": "stdout",
     "output_type": "stream",
     "text": [
      "다음 장치를 사용합니다:  cuda\n"
     ]
    }
   ],
   "source": [
    "# hyperparameters\n",
    "EPOCHS = 500\n",
    "BATCH_SIZE = 100\n",
    "USE_CUDA = torch.cuda.is_available()\n",
    "DEVICE = torch.device(\"cuda\" if USE_CUDA else \"cpu\")\n",
    "print(\"다음 장치를 사용합니다: \", DEVICE)"
   ]
  },
  {
   "cell_type": "code",
   "execution_count": 4,
   "metadata": {},
   "outputs": [],
   "source": [
    "# Fashion MNIST \n",
    "trainset = datasets.FashionMNIST(\n",
    "    './data',\n",
    "    train=True,\n",
    "    download=True,\n",
    "    transform=transforms.Compose([\n",
    "        transforms.ToTensor(),\n",
    "        transforms.Normalize((0.5, ), (0.5, ))\n",
    "    ]))\n",
    "\n",
    "train_loader = torch.utils.data.DataLoader(\n",
    "    dataset=trainset,\n",
    "    batch_size=BATCH_SIZE,\n",
    "    shuffle=True\n",
    ")"
   ]
  },
  {
   "cell_type": "code",
   "execution_count": 5,
   "metadata": {},
   "outputs": [],
   "source": [
    "class Generator(nn.Module):\n",
    "    def __init__(self):\n",
    "        super().__init__()\n",
    "        \n",
    "        self.embed = nn.Embedding(10, 10)\n",
    "        self.model = nn.Sequential(\n",
    "            nn.Linear(110, 256),\n",
    "            nn.LeakyReLU(0.2, inplace=True),\n",
    "            nn.Linear(256, 512),\n",
    "            nn.LeakyReLU(0.2, inplace=True),\n",
    "            nn.Linear(512, 1024),\n",
    "            nn.LeakyReLU(0.2, inplace=True),\n",
    "            nn.Linear(1024, 784),\n",
    "            nn.Tanh()\n",
    "        )\n",
    "    \n",
    "    def forward(self, z, labels):\n",
    "        c = self.embed(labels)\n",
    "        x = torch.cat([z, c], 1)\n",
    "        return self.model(x)"
   ]
  },
  {
   "cell_type": "code",
   "execution_count": 6,
   "metadata": {},
   "outputs": [],
   "source": [
    "class Discriminator(nn.Module):\n",
    "    def __init__(self):\n",
    "        super().__init__()\n",
    "        \n",
    "        self.embed = nn.Embedding(10, 10)\n",
    "        \n",
    "        self.model = nn.Sequential(\n",
    "            nn.Linear(794, 1024),\n",
    "            nn.LeakyReLU(0.2, inplace=True),\n",
    "            nn.Dropout(0.3),\n",
    "            nn.Linear(1024, 512),\n",
    "            nn.LeakyReLU(0.2, inplace=True),\n",
    "            nn.Dropout(0.3),\n",
    "            nn.Linear(512, 256),\n",
    "            nn.LeakyReLU(0.2, inplace=True),\n",
    "            nn.Dropout(0.3),\n",
    "            nn.Linear(256, 1),\n",
    "            nn.Sigmoid()\n",
    "        )\n",
    "        \n",
    "    def forward(self, x, labels):\n",
    "        c = self.embed(labels)\n",
    "        x = torch.cat([x, c], 1)\n",
    "        return self.model(x)"
   ]
  },
  {
   "cell_type": "code",
   "execution_count": 7,
   "metadata": {},
   "outputs": [],
   "source": [
    "# 모델 인스턴스를 만들고 모델 가중치를 지정한 장치로 보내기\n",
    "D = Discriminator().to(DEVICE)\n",
    "G = Generator().to(DEVICE)\n",
    "\n",
    "# Binary Cross Entropy Loss function\n",
    "# Adam Optimizer\n",
    "criterion = nn.BCELoss()\n",
    "d_optimizer = optim.Adam(D.parameters(), lr=0.0002)\n",
    "g_optimizer = optim.Adam(G.parameters(), lr=0.0002)"
   ]
  },
  {
   "cell_type": "code",
   "execution_count": 11,
   "metadata": {},
   "outputs": [
    {
     "name": "stdout",
     "output_type": "stream",
     "text": [
      "600 batches per 1 Epoch\n"
     ]
    }
   ],
   "source": [
    "total_step = len(train_loader)\n",
    "print(\"{} batches per 1 Epoch\".format(total_step))\n",
    "\n",
    "TRAINING=False\n",
    "if TRAINING:\n",
    "    for epoch in range(EPOCHS):\n",
    "        for i, (images, labels) in enumerate(train_loader):\n",
    "            images = images.reshape(BATCH_SIZE, -1).to(DEVICE)\n",
    "\n",
    "            # '진짜' 와 '가짜' label 생성\n",
    "            real_labels = torch.ones(BATCH_SIZE, 1).to(DEVICE)\n",
    "            fake_labels = torch.zeros(BATCH_SIZE, 1).to(DEVICE)\n",
    "\n",
    "            # 판별자가 진짜 이미지를 진짜로 인식하는 오차 계산(True positive)\n",
    "            labels = labels.to(DEVICE)\n",
    "            outputs = D(images, labels)\n",
    "            d_loss_real = criterion(outputs, real_labels)\n",
    "            real_score = outputs\n",
    "\n",
    "            # 무작위 텐서와 무작위 레이블을 생성자에 입력해 가짜 이미지 생성\n",
    "            z = torch.randn(BATCH_SIZE, 100).to(DEVICE)\n",
    "            g_label = torch.randint(0, 10, (BATCH_SIZE, )).to(DEVICE)\n",
    "            fake_images = G(z, g_label)\n",
    "\n",
    "            # 판별자가 가짜 이미지를 가짜로 인식하는 오차 계산(True Negative)\n",
    "            outputs = D(fake_images, g_label)\n",
    "            d_loss_fake = criterion(outputs, fake_labels)\n",
    "            fake_score = outputs\n",
    "\n",
    "            # 진짜와 가짜 이미지를 가지고 낸 오차를 더해서 판별자의 오차 계산\n",
    "            d_loss = d_loss_real + d_loss_fake\n",
    "\n",
    "            # BackPropagation으로 판별자 모델의 학습을 진행\n",
    "            d_optimizer.zero_grad()\n",
    "            g_optimizer.zero_grad()\n",
    "            d_loss.backward()\n",
    "            d_optimizer.step()\n",
    "\n",
    "            # 생성자가 판별자를 속였는지에 대한 오차를 계산 (False Positive)\n",
    "            fake_images = G(z, g_label)\n",
    "            outputs = D(fake_images, g_label)\n",
    "            g_loss = criterion(outputs, real_labels)\n",
    "\n",
    "            # BackPropagation으로 생성자 모델의 학습을 진행\n",
    "            d_optimizer.zero_grad()\n",
    "            g_optimizer.zero_grad()\n",
    "            g_loss.backward()\n",
    "            g_optimizer.step()\n",
    "\n",
    "        print(\"EPOCH: [{}/{}] d_loss: {:.4f} g_loss: {:.4f} D(x):{:.2f} D(G(z)):{:.2f}\".format(\n",
    "            epoch, EPOCHS, d_loss.item(), g_loss.item(), real_score.mean().item(), fake_score.mean().item()\n",
    "        ))\n",
    "    torch.save(D.state_dict(), './snapshot/conditional_gan_discriminator.pt')\n",
    "    torch.save(G.state_dict(), './snapshot/conditional_gan_generator.pt')\n",
    "else:\n",
    "    D.load_state_dict(torch.load('./snapshot/conditional_gan_discriminator.pt'))\n",
    "    G.load_state_dict(torch.load('./snapshot/conditional_gan_generator.pt'))"
   ]
  },
  {
   "cell_type": "code",
   "execution_count": 12,
   "metadata": {},
   "outputs": [
    {
     "data": {
      "image/png": "[encoded data removed]",
      "text/plain": [
       "<Figure size 432x288 with 1 Axes>"
      ]
     },
     "metadata": {
      "needs_background": "light"
     },
     "output_type": "display_data"
    }
   ],
   "source": [
    "# Visualization\n",
    "item_table = { idx: name for idx, name in enumerate(datasets.FashionMNIST.classes)}\n",
    "\n",
    "item_number = 4\n",
    "z = torch.randn(1, 100).to(DEVICE)    # 배치 크기 1\n",
    "g_label = torch.full((1, ), item_number, dtype=torch.long).to(DEVICE)\n",
    "sample_images = G(z, g_label)\n",
    "sample_images_img = np.reshape(sample_images.data.cpu().numpy()[0], (28, 28))\n",
    "\n",
    "plt.imshow(sample_images_img, cmap='gray')\n",
    "plt.show()"
   ]
  },
  {
   "cell_type": "code",
   "execution_count": null,
   "metadata": {},
   "outputs": [],
   "source": []
  }
 ],
 "metadata": {
  "kernelspec": {
   "display_name": "Python 3",
   "language": "python",
   "name": "python3"
  }
 },
 "nbformat": 4,
 "nbformat_minor": 2
}
